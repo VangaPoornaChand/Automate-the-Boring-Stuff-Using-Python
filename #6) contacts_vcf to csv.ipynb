{
 "metadata": {
  "language_info": {
   "codemirror_mode": {
    "name": "ipython",
    "version": 3
   },
   "file_extension": ".py",
   "mimetype": "text/x-python",
   "name": "python",
   "nbconvert_exporter": "python",
   "pygments_lexer": "ipython3",
   "version": "3.8.5-final"
  },
  "orig_nbformat": 2,
  "kernelspec": {
   "name": "python3",
   "display_name": "Python 3"
  }
 },
 "nbformat": 4,
 "nbformat_minor": 2,
 "cells": [
  {
   "cell_type": "code",
   "execution_count": 2,
   "metadata": {
    "tags": []
   },
   "outputs": [],
   "source": [
    "f = open(r'c:\\Users\\Poorna Chand\\Desktop\\contacts.txt','r')\n",
    "\n",
    "data = f.read()\n",
    "\n",
    "contacts = []\n",
    "while True:\n",
    "    start = data.find(\"BEGIN:VCARD\")\n",
    "    end = data.find(\"END:VCARD\")+len(\"END:VCARD\")\n",
    "    if start == -1 or end == -1:\n",
    "        break\n",
    "    contacts.append(data[start:end])\n",
    "    data = data[end:]"
   ]
  },
  {
   "cell_type": "code",
   "execution_count": 3,
   "metadata": {},
   "outputs": [
    {
     "output_type": "stream",
     "name": "stdout",
     "text": [
      "182\n"
     ]
    }
   ],
   "source": [
    "print(len(contacts))"
   ]
  },
  {
   "cell_type": "code",
   "execution_count": 48,
   "metadata": {},
   "outputs": [],
   "source": [
    "for i in range(len(contacts)):\n",
    "    fn_start = contacts[i].find(\"FN:\")\n",
    "    fn_line_end = contacts[i][fn_start:].find(\"\\n\")\n",
    "    # print(contacts[i][fn_start:fn_start+fn_line_end])\n",
    "    # print(fn_start,fn_start+fn_line_end)"
   ]
  },
  {
   "cell_type": "code",
   "execution_count": 81,
   "metadata": {},
   "outputs": [],
   "source": [
    "contacts_dict = {}\n",
    "for i in range(len(contacts)):\n",
    "    con = contacts[i].split(\"\\n\")\n",
    "    con.remove(\"BEGIN:VCARD\")\n",
    "    con.remove(\"END:VCARD\")\n",
    "    con.remove(\"VERSION:2.1\")\n",
    "    con.pop(0)\n",
    "    try:\n",
    "        name = con[0][3:]\n",
    "        number = con[1].split(\":\")[-1]\n",
    "        number = number.replace(\"+91\",\"\")\n",
    "        number = number.replace(\" \",\"\")\n",
    "        number = int(number)\n",
    "        contacts_dict[number]=name\n",
    "    except:\n",
    "        pass\n",
    "    # print(con)"
   ]
  },
  {
   "cell_type": "code",
   "execution_count": 84,
   "metadata": {},
   "outputs": [],
   "source": [
    "clipboard_copy_text = \"name,number\\n\"\n",
    "for i in contacts_dict:\n",
    "    clipboard_copy_text += contacts_dict[i]+\",\"+str(i)+\"\\n\""
   ]
  },
  {
   "cell_type": "code",
   "execution_count": 85,
   "metadata": {},
   "outputs": [],
   "source": [
    "import pyperclip\n",
    "pyperclip.copy(clipboard_copy_text)\n",
    "# spam = pyperclip.paste()"
   ]
  },
  {
   "cell_type": "code",
   "execution_count": null,
   "metadata": {},
   "outputs": [],
   "source": [
    "print(\"All the contacts are copied to clipboard... Paste using(Ctrl + V)\")\n",
    "with open(\"contacts.csv\",\"w\") as f:\n",
    "    f.write(pyperclip.paste())"
   ]
  }
 ]
}